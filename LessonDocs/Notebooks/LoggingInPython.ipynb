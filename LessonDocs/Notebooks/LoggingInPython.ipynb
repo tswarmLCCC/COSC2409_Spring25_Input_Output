{
 "cells": [
  {
   "cell_type": "markdown",
   "metadata": {},
   "source": [
    "# Import Required Libraries\n",
    "This section imports the logging library, which is used to track events that happen when some software runs. The logging library helps in recording debug information, errors, and other runtime events, making it easier to diagnose issues and understand the program's flow."
   ]
  },
  {
   "cell_type": "markdown",
   "metadata": {},
   "source": []
  },
  {
   "cell_type": "code",
   "execution_count": 6,
   "metadata": {},
   "outputs": [
    {
     "name": "stdout",
     "output_type": "stream",
     "text": [
      "Starting division operation\n",
      "Dividing 10 by 2\n",
      "Result of division: 5.0\n",
      "Starting division operation\n",
      "Dividing 10 by 0\n"
     ]
    }
   ],
   "source": [
    "def divide_numbers(a, b):\n",
    "    print(\"Starting division operation\")\n",
    "    print(f\"Dividing {a} by {b}\")\n",
    "    if b == 0:\n",
    "        #print(\"Warning: Division by zero\")\n",
    "        return None\n",
    "    result = a / b\n",
    "    print(f\"Result of division: {result}\")\n",
    "    return result\n",
    "\n",
    "divide_numbers(10, 2)\n",
    "divide_numbers(10, 0)"
   ]
  },
  {
   "cell_type": "code",
   "execution_count": 12,
   "metadata": {},
   "outputs": [],
   "source": [
    "import logging\n",
    "logging.getLogger().setLevel(logging.CRITICAL)"
   ]
  },
  {
   "cell_type": "code",
   "execution_count": 13,
   "metadata": {},
   "outputs": [
    {
     "name": "stdout",
     "output_type": "stream",
     "text": [
      "5.0\n",
      "None\n"
     ]
    }
   ],
   "source": [
    "import logging\n",
    "\n",
    "def divide_numbers(a, b):\n",
    "    logging.debug(\"Entering divide_numbers function\")\n",
    "    logging.info(\"Starting division operation\")\n",
    "    logging.info(f\"Dividing {a} by {b}\")\n",
    "    if b == 0:\n",
    "        logging.debug(\"value of b:\", b)\n",
    "        logging.warning(\"Warning: Division by zero\")\n",
    "        return None\n",
    "    result = a / b\n",
    "    logging.info(f\"Result of division: {result}\")\n",
    "    return result\n",
    "\n",
    "print(divide_numbers(10, 2))\n",
    "print(divide_numbers(10, 0))"
   ]
  },
  {
   "cell_type": "markdown",
   "metadata": {},
   "source": [
    "# Basic Logging Configuration\n",
    "Set up basic logging configuration using logging.basicConfig()."
   ]
  },
  {
   "cell_type": "code",
   "execution_count": 18,
   "metadata": {},
   "outputs": [
    {
     "name": "stderr",
     "output_type": "stream",
     "text": [
      "INFO:root:Informational message\n",
      "WARNING:root:Warning:config file server.conf not found\n",
      "ERROR:root:Error occurred\n",
      "CRITICAL:root:Critical error -- shutting down\n"
     ]
    }
   ],
   "source": [
    "import logging\n",
    "logging.debug('Debugging information')\n",
    "logging.info('Informational message')\n",
    "logging.warning('Warning:config file %s not found', 'server.conf')\n",
    "logging.error('Error occurred')\n",
    "logging.critical('Critical error -- shutting down')"
   ]
  },
  {
   "cell_type": "code",
   "execution_count": 2,
   "metadata": {},
   "outputs": [],
   "source": [
    "import logging\n",
    "\n",
    "# Set up basic configuration for logging\n",
    "logging.basicConfig(level=logging.WARN, format='%(asctime)s - %(levelname)s - %(message)s')"
   ]
  },
  {
   "cell_type": "markdown",
   "metadata": {},
   "source": []
  },
  {
   "cell_type": "code",
   "execution_count": 10,
   "metadata": {},
   "outputs": [],
   "source": [
    "logging.getLogger().setLevel(logging.CRITICAL)"
   ]
  },
  {
   "cell_type": "markdown",
   "metadata": {},
   "source": [
    "# Logging Levels\n",
    "Demonstrate different logging levels: DEBUG, INFO, WARNING, ERROR, and CRITICAL."
   ]
  },
  {
   "cell_type": "code",
   "execution_count": null,
   "metadata": {},
   "outputs": [
    {
     "name": "stderr",
     "output_type": "stream",
     "text": [
      "2024-11-12 14:53:37,821 - DEBUG - This is a debug message\n",
      "2024-11-12 14:53:37,821 - INFO - This is an info message\n",
      "2024-11-12 14:53:37,822 - WARNING - This is a warning message\n",
      "2024-11-12 14:53:37,822 - ERROR - This is an error message\n",
      "2024-11-12 14:53:37,823 - CRITICAL - This is a critical message\n"
     ]
    }
   ],
   "source": [
    "# Demonstrate different logging levels: DEBUG, INFO, WARNING, ERROR, and CRITICAL\n",
    "\n",
    "# Log a debug message\n",
    "logging.debug('This is a debug message')\n",
    "\n",
    "# Log an info message\n",
    "logging.info('This is an info message')\n",
    "\n",
    "# Log a warning message\n",
    "logging.warning('This is a warning message')\n",
    "\n",
    "# Log an error message\n",
    "logging.error('This is an error message')\n",
    "\n",
    "# Log a critical message\n",
    "logging.critical('This is a critical message')"
   ]
  },
  {
   "cell_type": "markdown",
   "metadata": {},
   "source": [
    "# Logging to a File\n",
    "Configure logging to output to a file instead of the console."
   ]
  },
  {
   "cell_type": "code",
   "execution_count": 3,
   "metadata": {},
   "outputs": [],
   "source": [
    "import logging\n",
    "\n",
    "# Configure logging to output to a file instead of the console\n",
    "logging.basicConfig(filename='app.log', level=logging.DEBUG, format='%(asctime)s - %(levelname)s - %(message)s')\n",
    "\n",
    "# Log messages to the file\n",
    "logging.debug('This is a debug message logged to a file')\n",
    "logging.info('This is an info message logged to a file')\n",
    "logging.warning('This is a warning message logged to a file')\n",
    "logging.error('This is an error message logged to a file')\n",
    "logging.critical('This is a critical message logged to a file')"
   ]
  },
  {
   "cell_type": "markdown",
   "metadata": {},
   "source": [
    "# Custom Log Formatting\n",
    "Customize the log message format using formatters."
   ]
  },
  {
   "cell_type": "code",
   "execution_count": 4,
   "metadata": {},
   "outputs": [
    {
     "name": "stderr",
     "output_type": "stream",
     "text": [
      "customLogger - WARNING - This is a warning message with custom formatting\n",
      "customLogger - ERROR - This is an error message with custom formatting\n"
     ]
    }
   ],
   "source": [
    "import logging\n",
    "\n",
    "# Create a custom logger\n",
    "logger = logging.getLogger('customLogger')\n",
    "\n",
    "# Create handlers\n",
    "console_handler = logging.StreamHandler()\n",
    "file_handler = logging.FileHandler('custom.log')\n",
    "\n",
    "# Set level for handlers\n",
    "console_handler.setLevel(logging.WARNING)\n",
    "file_handler.setLevel(logging.ERROR)\n",
    "\n",
    "# Create formatters and add them to handlers\n",
    "console_format = logging.Formatter('%(name)s - %(levelname)s - %(message)s')\n",
    "file_format = logging.Formatter('%(asctime)s - %(name)s - %(levelname)s - %(message)s')\n",
    "\n",
    "console_handler.setFormatter(console_format)\n",
    "file_handler.setFormatter(file_format)\n",
    "\n",
    "# Add handlers to the logger\n",
    "logger.addHandler(console_handler)\n",
    "logger.addHandler(file_handler)\n",
    "\n",
    "# Log messages with custom formatting\n",
    "logger.warning('This is a warning message with custom formatting')\n",
    "logger.error('This is an error message with custom formatting')"
   ]
  },
  {
   "cell_type": "markdown",
   "metadata": {},
   "source": [
    "# Logging Exceptions\n",
    "Log exceptions with traceback information using logging.exception()."
   ]
  },
  {
   "cell_type": "code",
   "execution_count": 5,
   "metadata": {},
   "outputs": [],
   "source": [
    "import logging\n",
    "import traceback\n",
    "\n",
    "# Function to demonstrate logging exceptions\n",
    "def log_exception():\n",
    "    try:\n",
    "        # Code that raises an exception\n",
    "        1 / 0\n",
    "    except ZeroDivisionError:\n",
    "        # Log the exception with traceback information\n",
    "        logging.exception(\"An exception occurred\")\n",
    "\n",
    "# Call the function to log the exception\n",
    "log_exception()"
   ]
  }
 ],
 "metadata": {
  "kernelspec": {
   "display_name": "Python 3",
   "language": "python",
   "name": "python3"
  },
  "language_info": {
   "codemirror_mode": {
    "name": "ipython",
    "version": 3
   },
   "file_extension": ".py",
   "mimetype": "text/x-python",
   "name": "python",
   "nbconvert_exporter": "python",
   "pygments_lexer": "ipython3",
   "version": "3.11.9"
  }
 },
 "nbformat": 4,
 "nbformat_minor": 2
}
