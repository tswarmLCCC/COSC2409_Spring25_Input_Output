{
 "cells": [
  {
   "cell_type": "markdown",
   "metadata": {},
   "source": [
    "# Import Required Libraries\n",
    "This section imports the logging library, which is used to track events that happen when some software runs. The logging library helps in recording debug information, errors, and other runtime events, making it easier to diagnose issues and understand the program's flow."
   ]
  },
  {
   "cell_type": "code",
   "execution_count": null,
   "metadata": {},
   "outputs": [],
   "source": [
    "import logging\n",
    "\n",
    "# Set up basic configuration for logging\n",
    "logging.basicConfig(level=logging.DEBUG, format='%(asctime)s - %(levelname)s - %(message)s')"
   ]
  },
  {
   "cell_type": "markdown",
   "metadata": {},
   "source": [
    "# Basic Logging Configuration\n",
    "Set up basic logging configuration using logging.basicConfig()."
   ]
  },
  {
   "cell_type": "code",
   "execution_count": null,
   "metadata": {},
   "outputs": [],
   "source": [
    "# Log a debug message\n",
    "logging.debug('This is a debug message')\n",
    "\n",
    "# Log an info message\n",
    "logging.info('This is an info message')\n",
    "\n",
    "# Log a warning message\n",
    "logging.warning('This is a warning message')\n",
    "\n",
    "# Log an error message\n",
    "logging.error('This is an error message')\n",
    "\n",
    "# Log a critical message\n",
    "logging.critical('This is a critical message')"
   ]
  },
  {
   "cell_type": "markdown",
   "metadata": {},
   "source": [
    "# Logging Levels\n",
    "Demonstrate different logging levels: DEBUG, INFO, WARNING, ERROR, and CRITICAL."
   ]
  },
  {
   "cell_type": "code",
   "execution_count": null,
   "metadata": {},
   "outputs": [],
   "source": [
    "# Demonstrate different logging levels: DEBUG, INFO, WARNING, ERROR, and CRITICAL\n",
    "\n",
    "# Log a debug message\n",
    "logging.debug('This is a debug message')\n",
    "\n",
    "# Log an info message\n",
    "logging.info('This is an info message')\n",
    "\n",
    "# Log a warning message\n",
    "logging.warning('This is a warning message')\n",
    "\n",
    "# Log an error message\n",
    "logging.error('This is an error message')\n",
    "\n",
    "# Log a critical message\n",
    "logging.critical('This is a critical message')"
   ]
  },
  {
   "cell_type": "markdown",
   "metadata": {},
   "source": [
    "# Logging to a File\n",
    "Configure logging to output to a file instead of the console."
   ]
  },
  {
   "cell_type": "code",
   "execution_count": null,
   "metadata": {},
   "outputs": [],
   "source": [
    "import logging\n",
    "\n",
    "# Configure logging to output to a file instead of the console\n",
    "logging.basicConfig(filename='app.log', level=logging.DEBUG, format='%(asctime)s - %(levelname)s - %(message)s')\n",
    "\n",
    "# Log messages to the file\n",
    "logging.debug('This is a debug message logged to a file')\n",
    "logging.info('This is an info message logged to a file')\n",
    "logging.warning('This is a warning message logged to a file')\n",
    "logging.error('This is an error message logged to a file')\n",
    "logging.critical('This is a critical message logged to a file')"
   ]
  },
  {
   "cell_type": "markdown",
   "metadata": {},
   "source": [
    "# Custom Log Formatting\n",
    "Customize the log message format using formatters."
   ]
  },
  {
   "cell_type": "code",
   "execution_count": null,
   "metadata": {},
   "outputs": [],
   "source": [
    "import logging\n",
    "\n",
    "# Create a custom logger\n",
    "logger = logging.getLogger('customLogger')\n",
    "\n",
    "# Create handlers\n",
    "console_handler = logging.StreamHandler()\n",
    "file_handler = logging.FileHandler('custom.log')\n",
    "\n",
    "# Set level for handlers\n",
    "console_handler.setLevel(logging.WARNING)\n",
    "file_handler.setLevel(logging.ERROR)\n",
    "\n",
    "# Create formatters and add them to handlers\n",
    "console_format = logging.Formatter('%(name)s - %(levelname)s - %(message)s')\n",
    "file_format = logging.Formatter('%(asctime)s - %(name)s - %(levelname)s - %(message)s')\n",
    "\n",
    "console_handler.setFormatter(console_format)\n",
    "file_handler.setFormatter(file_format)\n",
    "\n",
    "# Add handlers to the logger\n",
    "logger.addHandler(console_handler)\n",
    "logger.addHandler(file_handler)\n",
    "\n",
    "# Log messages with custom formatting\n",
    "logger.warning('This is a warning message with custom formatting')\n",
    "logger.error('This is an error message with custom formatting')"
   ]
  },
  {
   "cell_type": "markdown",
   "metadata": {},
   "source": [
    "# Logging Exceptions\n",
    "Log exceptions with traceback information using logging.exception()."
   ]
  },
  {
   "cell_type": "code",
   "execution_count": null,
   "metadata": {},
   "outputs": [],
   "source": [
    "import logging\n",
    "import traceback\n",
    "\n",
    "# Function to demonstrate logging exceptions\n",
    "def log_exception():\n",
    "    try:\n",
    "        # Code that raises an exception\n",
    "        1 / 0\n",
    "    except ZeroDivisionError:\n",
    "        # Log the exception with traceback information\n",
    "        logging.exception(\"An exception occurred\")\n",
    "\n",
    "# Call the function to log the exception\n",
    "log_exception()"
   ]
  }
 ],
 "metadata": {
  "language_info": {
   "name": "python"
  }
 },
 "nbformat": 4,
 "nbformat_minor": 2
}
