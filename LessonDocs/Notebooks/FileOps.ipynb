{
 "cells": [
  {
   "cell_type": "markdown",
   "metadata": {},
   "source": [
    "# Reading and Writing Files\n",
    "This section covers how to read from and write to files in Python."
   ]
  },
  {
   "cell_type": "code",
   "execution_count": null,
   "metadata": {},
   "outputs": [],
   "source": [
    "# Reading and Writing Files\n",
    "\n",
    "## Methods of File Objects\n",
    "\n",
    "# Writing to a file\n",
    "with open('example.txt', 'w') as file:\n",
    "    file.write(\"Hello, world!\\n\")\n",
    "    file.write(\"This is a test file.\\n\")\n",
    "\n",
    "# Reading from a file\n",
    "with open('example.txt', 'r') as file:\n",
    "    content = file.read()\n",
    "\n",
    "content\n"
   ]
  },
  {
   "cell_type": "code",
   "execution_count": null,
   "metadata": {},
   "outputs": [
    {
     "name": "stdout",
     "output_type": "stream",
     "text": [
      "What is your name?  It is lancelot.\n",
      "What is your quest?  It is the holy grail.\n",
      "What is your favorite color?  It is blue.\n"
     ]
    }
   ],
   "source": [
    "questions = ['name', 'quest', 'favorite color']\n",
    "answers = ['lancelot', 'the holy grail', 'blue']\n",
    "for q, a in zip(questions, answers):\n",
    "     print('What is your {0}?  It is {1}.'.format(q, a))"
   ]
  },
  {
   "cell_type": "code",
   "execution_count": null,
   "metadata": {},
   "outputs": [],
   "source": [
    "\n",
    "import json\n",
    "\n",
    "# Creating a dictionary to save as JSON\n",
    "data = {\n",
    "    \"name\": \"Alice\",\n",
    "    \"age\": 25,\n",
    "    \"height\": 5.4\n",
    "}\n",
    "\n",
    "# Writing JSON data to a file\n",
    "with open('data.json', 'w') as json_file:\n",
    "    json.dump(data, json_file)\n"
   ]
  },
  {
   "cell_type": "code",
   "execution_count": null,
   "metadata": {},
   "outputs": [],
   "source": [
    "\n",
    "# Reading JSON data from a file\n",
    "with open('data.json', 'r') as json_file:\n",
    "    loaded_data = json.load(json_file)\n",
    "\n",
    "loaded_data"
   ]
  },
  {
   "cell_type": "markdown",
   "metadata": {},
   "source": [
    "# Methods of File Objects\n",
    "Demonstrate various methods of file objects such as read(), readline(), write(), and close()."
   ]
  },
  {
   "cell_type": "code",
   "execution_count": null,
   "metadata": {},
   "outputs": [],
   "source": [
    "# Methods of File Objects\n",
    "\n",
    "# Writing to a file\n",
    "with open('example.txt', 'w') as file:\n",
    "    file.write(\"Hello, world!\\n\")\n",
    "    file.write(\"This is a test file.\\n\")\n"
   ]
  },
  {
   "cell_type": "code",
   "execution_count": null,
   "metadata": {},
   "outputs": [],
   "source": [
    "# Reading from a file\n",
    "with open('example.txt', 'r') as file:\n",
    "    content = file.read()\n",
    "\n",
    "content"
   ]
  },
  {
   "cell_type": "code",
   "execution_count": null,
   "metadata": {},
   "outputs": [],
   "source": [
    "\n",
    "# Reading line by line\n",
    "with open('example.txt', 'r') as file:\n",
    "    for line in file:\n",
    "        print(line.strip())\n"
   ]
  },
  {
   "cell_type": "code",
   "execution_count": null,
   "metadata": {},
   "outputs": [],
   "source": [
    "\n",
    "# Using readline() method\n",
    "with open('example.txt', 'r') as file:\n",
    "    first_line = file.readline()\n",
    "    second_line = file.readline()\n",
    "    \n",
    "first_line, second_line\n"
   ]
  },
  {
   "cell_type": "code",
   "execution_count": null,
   "metadata": {},
   "outputs": [],
   "source": [
    "# Using readlines() method\n",
    "with open('example.txt', 'r') as file:\n",
    "    all_lines = file.readlines()\n",
    "\n",
    "all_lines"
   ]
  },
  {
   "cell_type": "code",
   "execution_count": null,
   "metadata": {},
   "outputs": [],
   "source": [
    "\n",
    "# Appending to a file\n",
    "with open('example.txt', 'a') as file:\n",
    "    file.write(\"Appending a new line.\\n\")\n"
   ]
  },
  {
   "cell_type": "code",
   "execution_count": null,
   "metadata": {},
   "outputs": [],
   "source": [
    "\n",
    "# Reading the appended content\n",
    "with open('example.txt', 'r') as file:\n",
    "    appended_content = file.read()\n",
    "\n",
    "appended_content\n"
   ]
  },
  {
   "cell_type": "code",
   "execution_count": null,
   "metadata": {},
   "outputs": [],
   "source": [
    "# Closing a file explicitly\n",
    "file = open('example.txt', 'r')\n",
    "file_content = file.read()\n",
    "file.close()\n",
    "\n",
    "file_content"
   ]
  },
  {
   "cell_type": "markdown",
   "metadata": {},
   "source": [
    "# Saving structured data with json\n",
    "Show how to use the json module to save and load structured data."
   ]
  },
  {
   "cell_type": "code",
   "execution_count": null,
   "metadata": {},
   "outputs": [],
   "source": [
    "# Saving structured data with json\n",
    "\n",
    "import json\n",
    "\n",
    "# Creating a dictionary to save as JSON\n",
    "data = {\n",
    "    \"name\": \"Alice\",\n",
    "    \"age\": 25,\n",
    "    \"height\": 5.4\n",
    "}\n"
   ]
  },
  {
   "cell_type": "code",
   "execution_count": null,
   "metadata": {},
   "outputs": [],
   "source": [
    "# Writing JSON data to a file\n",
    "with open('data.json', 'w') as json_file:\n",
    "    json.dump(data, json_file)\n"
   ]
  },
  {
   "cell_type": "code",
   "execution_count": null,
   "metadata": {},
   "outputs": [],
   "source": [
    "# Reading JSON data from a file\n",
    "with open('data.json', 'r') as json_file:\n",
    "    loaded_data = json.load(json_file)\n",
    "\n",
    "loaded_data"
   ]
  },
  {
   "cell_type": "code",
   "execution_count": null,
   "metadata": {},
   "outputs": [],
   "source": [
    "\n",
    "# Creating a more complex dictionary with nested structures\n",
    "complex_data = {\n",
    "    \"name\": \"Bob\",\n",
    "    \"age\": 30,\n",
    "    \"address\": {\n",
    "        \"street\": \"123 Main St\",\n",
    "        \"city\": \"Anytown\",\n",
    "        \"state\": \"CA\"\n",
    "    },\n",
    "    \"phone_numbers\": [\"123-456-7890\", \"987-654-3210\"]\n",
    "}"
   ]
  },
  {
   "cell_type": "code",
   "execution_count": null,
   "metadata": {},
   "outputs": [],
   "source": [
    "\n",
    "# Writing complex JSON data to a file\n",
    "with open('complex_data.json', 'w') as json_file:\n",
    "    json.dump(complex_data, json_file, indent=4)\n"
   ]
  },
  {
   "cell_type": "code",
   "execution_count": null,
   "metadata": {},
   "outputs": [],
   "source": [
    "# Reading complex JSON data from a file\n",
    "with open('complex_data.json', 'r') as json_file:\n",
    "    loaded_complex_data = json.load(json_file)\n",
    "\n",
    "loaded_complex_data"
   ]
  }
 ],
 "metadata": {
  "kernelspec": {
   "display_name": "Python 3",
   "language": "python",
   "name": "python3"
  },
  "language_info": {
   "codemirror_mode": {
    "name": "ipython",
    "version": 3
   },
   "file_extension": ".py",
   "mimetype": "text/x-python",
   "name": "python",
   "nbconvert_exporter": "python",
   "pygments_lexer": "ipython3",
   "version": "3.11.9"
  }
 },
 "nbformat": 4,
 "nbformat_minor": 2
}
