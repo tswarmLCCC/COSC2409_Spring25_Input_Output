{
 "cells": [
  {
   "cell_type": "markdown",
   "metadata": {},
   "source": [
    "# Reading and Writing Files\n",
    "This section covers how to read from and write to files in Python."
   ]
  },
  {
   "cell_type": "code",
   "execution_count": 9,
   "metadata": {},
   "outputs": [
    {
     "name": "stdout",
     "output_type": "stream",
     "text": [
      "Hello, world!\n",
      "This is a test file.\n"
     ]
    },
    {
     "data": {
      "text/plain": [
       "{'name': 'Alice', 'age': 25, 'height': 5.4}"
      ]
     },
     "execution_count": 9,
     "metadata": {},
     "output_type": "execute_result"
    }
   ],
   "source": [
    "# Reading and Writing Files\n",
    "\n",
    "## Methods of File Objects\n",
    "\n",
    "# Writing to a file\n",
    "with open('example.txt', 'w') as file:\n",
    "    file.write(\"Hello, world!\\n\")\n",
    "    file.write(\"This is a test file.\\n\")\n",
    "\n",
    "# Reading from a file\n",
    "with open('example.txt', 'r') as file:\n",
    "    content = file.read()\n",
    "\n",
    "content\n",
    "\n",
    "# Reading line by line\n",
    "with open('example.txt', 'r') as file:\n",
    "    for line in file:\n",
    "        print(line.strip())\n",
    "\n",
    "## Saving structured data with json\n",
    "\n",
    "import json\n",
    "\n",
    "# Creating a dictionary to save as JSON\n",
    "data = {\n",
    "    \"name\": \"Alice\",\n",
    "    \"age\": 25,\n",
    "    \"height\": 5.4\n",
    "}\n",
    "\n",
    "# Writing JSON data to a file\n",
    "with open('data.json', 'w') as json_file:\n",
    "    json.dump(data, json_file)\n",
    "\n",
    "# Reading JSON data from a file\n",
    "with open('data.json', 'r') as json_file:\n",
    "    loaded_data = json.load(json_file)\n",
    "\n",
    "loaded_data"
   ]
  },
  {
   "cell_type": "markdown",
   "metadata": {},
   "source": [
    "# Methods of File Objects\n",
    "Demonstrate various methods of file objects such as read(), readline(), write(), and close()."
   ]
  },
  {
   "cell_type": "code",
   "execution_count": null,
   "metadata": {},
   "outputs": [],
   "source": [
    "# Methods of File Objects\n",
    "\n",
    "# Writing to a file\n",
    "with open('example.txt', 'w') as file:\n",
    "    file.write(\"Hello, world!\\n\")\n",
    "    file.write(\"This is a test file.\\n\")\n",
    "\n",
    "# Reading from a file\n",
    "with open('example.txt', 'r') as file:\n",
    "    content = file.read()\n",
    "\n",
    "content\n",
    "\n",
    "# Reading line by line\n",
    "with open('example.txt', 'r') as file:\n",
    "    for line in file:\n",
    "        print(line.strip())\n",
    "\n",
    "# Using readline() method\n",
    "with open('example.txt', 'r') as file:\n",
    "    first_line = file.readline()\n",
    "    second_line = file.readline()\n",
    "\n",
    "first_line, second_line\n",
    "\n",
    "# Using readlines() method\n",
    "with open('example.txt', 'r') as file:\n",
    "    all_lines = file.readlines()\n",
    "\n",
    "all_lines\n",
    "\n",
    "# Appending to a file\n",
    "with open('example.txt', 'a') as file:\n",
    "    file.write(\"Appending a new line.\\n\")\n",
    "\n",
    "# Reading the appended content\n",
    "with open('example.txt', 'r') as file:\n",
    "    appended_content = file.read()\n",
    "\n",
    "appended_content\n",
    "\n",
    "# Closing a file explicitly\n",
    "file = open('example.txt', 'r')\n",
    "file_content = file.read()\n",
    "file.close()\n",
    "\n",
    "file_content"
   ]
  },
  {
   "cell_type": "markdown",
   "metadata": {},
   "source": [
    "# Saving structured data with json\n",
    "Show how to use the json module to save and load structured data."
   ]
  },
  {
   "cell_type": "code",
   "execution_count": null,
   "metadata": {},
   "outputs": [],
   "source": [
    "# Saving structured data with json\n",
    "\n",
    "import json\n",
    "\n",
    "# Creating a dictionary to save as JSON\n",
    "data = {\n",
    "    \"name\": \"Alice\",\n",
    "    \"age\": 25,\n",
    "    \"height\": 5.4\n",
    "}\n",
    "\n",
    "# Writing JSON data to a file\n",
    "with open('data.json', 'w') as json_file:\n",
    "    json.dump(data, json_file)\n",
    "\n",
    "# Reading JSON data from a file\n",
    "with open('data.json', 'r') as json_file:\n",
    "    loaded_data = json.load(json_file)\n",
    "\n",
    "loaded_data\n",
    "\n",
    "# Creating a more complex dictionary with nested structures\n",
    "complex_data = {\n",
    "    \"name\": \"Bob\",\n",
    "    \"age\": 30,\n",
    "    \"address\": {\n",
    "        \"street\": \"123 Main St\",\n",
    "        \"city\": \"Anytown\",\n",
    "        \"state\": \"CA\"\n",
    "    },\n",
    "    \"phone_numbers\": [\"123-456-7890\", \"987-654-3210\"]\n",
    "}\n",
    "\n",
    "# Writing complex JSON data to a file\n",
    "with open('complex_data.json', 'w') as json_file:\n",
    "    json.dump(complex_data, json_file, indent=4)\n",
    "\n",
    "# Reading complex JSON data from a file\n",
    "with open('complex_data.json', 'r') as json_file:\n",
    "    loaded_complex_data = json.load(json_file)\n",
    "\n",
    "loaded_complex_data"
   ]
  }
 ],
 "metadata": {
  "kernelspec": {
   "display_name": "Python 3",
   "language": "python",
   "name": "python3"
  },
  "language_info": {
   "codemirror_mode": {
    "name": "ipython",
    "version": 3
   },
   "file_extension": ".py",
   "mimetype": "text/x-python",
   "name": "python",
   "nbconvert_exporter": "python",
   "pygments_lexer": "ipython3",
   "version": "3.11.9"
  }
 },
 "nbformat": 4,
 "nbformat_minor": 2
}
