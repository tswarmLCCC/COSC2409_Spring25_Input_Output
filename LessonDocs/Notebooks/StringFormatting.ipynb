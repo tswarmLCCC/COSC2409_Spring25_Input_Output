{
 "cells": [
  {
   "cell_type": "markdown",
   "metadata": {},
   "source": [
    "# Fancier Output Formatting\n",
    "This section covers various methods to format strings in Python for better output readability."
   ]
  },
  {
   "cell_type": "code",
   "execution_count": null,
   "metadata": {},
   "outputs": [],
   "source": [
    "# Fancier Output Formatting\n",
    "\n",
    "## Formatted String Literals\n",
    "\n",
    "# Using formatted string literals (f-strings) for better readability\n",
    "name = \"Alice\"\n",
    "age = 25\n",
    "height = 5.4\n",
    "\n",
    "# Displaying formatted string\n",
    "f\"Name: {name}, Age: {age}, Height: {height:.1f} feet\"\n",
    "\n"
   ]
  },
  {
   "cell_type": "code",
   "execution_count": null,
   "metadata": {},
   "outputs": [],
   "source": [
    "\n",
    "## The String format() Method\n",
    "\n",
    "# Using the format() method for string formatting\n",
    "name = \"Bob\"\n",
    "age = 30\n",
    "height = 6.1\n",
    "\n",
    "# Displaying formatted string\n",
    "\"Name: {}, Age: {}, Height: {:.1f} feet\".format(name, age, height)\n"
   ]
  },
  {
   "cell_type": "code",
   "execution_count": null,
   "metadata": {},
   "outputs": [],
   "source": [
    "\n",
    "## Manual String Formatting\n",
    "\n",
    "# Using manual string formatting with the % operator\n",
    "name = \"Charlie\"\n",
    "age = 35\n",
    "height = 5.9\n",
    "\n",
    "# Displaying formatted string\n",
    "\"Name: %s, Age: %d, Height: %.1f feet\" % (name, age, height)\n"
   ]
  },
  {
   "cell_type": "code",
   "execution_count": null,
   "metadata": {},
   "outputs": [],
   "source": [
    "## Old string formatting\n",
    "\n",
    "# Using old string formatting with the % operator\n",
    "name = \"David\"\n",
    "age = 40\n",
    "height = 6.0\n",
    "\n",
    "# Displaying formatted string\n",
    "\"Name: %s, Age: %d, Height: %.1f feet\" % (name, age, height)"
   ]
  },
  {
   "cell_type": "markdown",
   "metadata": {},
   "source": [
    "# Formatted String Literals\n",
    "Demonstrate the use of formatted string literals (f-strings) to embed expressions inside string literals."
   ]
  },
  {
   "cell_type": "code",
   "execution_count": null,
   "metadata": {},
   "outputs": [],
   "source": [
    "# Using formatted string literals (f-strings) for better readability\n",
    "name = \"Alice\"\n",
    "age = 25\n",
    "height = 5.4\n",
    "\n",
    "# Displaying formatted string\n",
    "f\"Name: {name}, Age: {age}, Height: {height:.1f} feet\""
   ]
  },
  {
   "cell_type": "markdown",
   "metadata": {},
   "source": [
    "# The String format() Method\n",
    "Show how to use the format() method to format strings with placeholders."
   ]
  },
  {
   "cell_type": "code",
   "execution_count": null,
   "metadata": {},
   "outputs": [],
   "source": [
    "# The String format() Method\n",
    "\n",
    "# Using the format() method for string formatting\n",
    "name = \"Bob\"\n",
    "age = 30\n",
    "height = 6.1\n",
    "\n",
    "\n",
    "\n"
   ]
  },
  {
   "cell_type": "code",
   "execution_count": 8,
   "metadata": {},
   "outputs": [
    {
     "data": {
      "text/plain": [
       "'Name: Bob, Age: 30, Height: 6.1 feet'"
      ]
     },
     "execution_count": 8,
     "metadata": {},
     "output_type": "execute_result"
    }
   ],
   "source": [
    "# Displaying formatted string\n",
    "\"Name: {}, Age: {}, Height: {:.1f} feet\".format(name, age, height)\n",
    "\n"
   ]
  },
  {
   "cell_type": "code",
   "execution_count": 5,
   "metadata": {},
   "outputs": [
    {
     "data": {
      "text/plain": [
       "'Name: Bob, Age: 30, Height: 6.1 feet'"
      ]
     },
     "execution_count": 5,
     "metadata": {},
     "output_type": "execute_result"
    }
   ],
   "source": [
    "# Using positional arguments in the format() method\n",
    "\"Name: {0}, Age: {1}, Height: {2:.1f} feet\".format(name, age, height)\n"
   ]
  },
  {
   "cell_type": "code",
   "execution_count": null,
   "metadata": {},
   "outputs": [
    {
     "data": {
      "text/plain": [
       "'Name: Bob, Age: 30, Height: 6.1 feet'"
      ]
     },
     "execution_count": 6,
     "metadata": {},
     "output_type": "execute_result"
    }
   ],
   "source": [
    "# Using keyword arguments in the format() method\n",
    "\"Name: {n}, Age: {a}, Height: {h:.1f} feet\".format(n=name, a=age, h=height)\n"
   ]
  },
  {
   "cell_type": "code",
   "execution_count": null,
   "metadata": {},
   "outputs": [
    {
     "name": "stdout",
     "output_type": "stream",
     "text": [
      "What is your name?  It is lancelot.\n",
      "What is your quest?  It is the holy grail.\n",
      "What is your favorite color?  It is blue.\n"
     ]
    }
   ],
   "source": [
    "questions = ['name', 'quest', 'favorite color']\n",
    "answers = ['lancelot', 'the holy grail', 'blue']\n",
    "for q, a in zip(questions, answers):\n",
    "     print('What is your {0}?  It is {1}.'.format(q, a))"
   ]
  },
  {
   "cell_type": "markdown",
   "metadata": {},
   "source": [
    "# Manual String Formatting\n",
    "Explain manual string formatting using concatenation and other string operations."
   ]
  },
  {
   "cell_type": "code",
   "execution_count": null,
   "metadata": {},
   "outputs": [],
   "source": [
    "# Manual String Formatting\n",
    "\n",
    "# Using concatenation for manual string formatting\n",
    "name = \"Eve\"\n",
    "age = 28\n",
    "height = 5.7\n",
    "\n",
    "# Displaying formatted string using concatenation\n",
    "\"Name: \" + name + \", Age: \" + str(age) + \", Height: \" + str(height) + \" feet\"\n",
    "\n"
   ]
  },
  {
   "cell_type": "code",
   "execution_count": null,
   "metadata": {},
   "outputs": [],
   "source": [
    "\n",
    "# Using join() method for manual string formatting\n",
    "name = \"Frank\"\n",
    "age = 33\n",
    "height = 6.2\n",
    "\n",
    "# Displaying formatted string using join() method\n",
    "\"\".join([\"Name: \", name, \", Age: \", str(age), \", Height: \", str(height), \" feet\"])"
   ]
  },
  {
   "cell_type": "code",
   "execution_count": null,
   "metadata": {},
   "outputs": [],
   "source": [
    "\n",
    "# Using % operator for manual string formatting\n",
    "name = \"Grace\"\n",
    "age = 29\n",
    "height = 5.8\n",
    "\n",
    "# Displaying formatted string using % operator\n",
    "\"Name: %s, Age: %d, Height: %.1f feet\" % (name, age, height)"
   ]
  },
  {
   "cell_type": "markdown",
   "metadata": {},
   "source": [
    "# Old string formatting\n",
    "Illustrate the old % operator method for string formatting."
   ]
  },
  {
   "cell_type": "code",
   "execution_count": null,
   "metadata": {},
   "outputs": [],
   "source": [
    "# Old string formatting\n",
    "\n",
    "# Using old string formatting with the % operator\n",
    "name = \"David\"\n",
    "age = 40\n",
    "height = 6.0\n",
    "\n",
    "# Displaying formatted string\n",
    "\"Name: %s, Age: %d, Height: %.1f feet\" % (name, age, height)"
   ]
  }
 ],
 "metadata": {
  "kernelspec": {
   "display_name": "Python 3",
   "language": "python",
   "name": "python3"
  },
  "language_info": {
   "codemirror_mode": {
    "name": "ipython",
    "version": 3
   },
   "file_extension": ".py",
   "mimetype": "text/x-python",
   "name": "python",
   "nbconvert_exporter": "python",
   "pygments_lexer": "ipython3",
   "version": "3.11.9"
  }
 },
 "nbformat": 4,
 "nbformat_minor": 2
}
